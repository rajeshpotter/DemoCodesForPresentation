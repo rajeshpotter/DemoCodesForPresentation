{
 "cells": [
  {
   "cell_type": "code",
   "execution_count": 10,
   "id": "8de3032a",
   "metadata": {},
   "outputs": [
    {
     "name": "stdout",
     "output_type": "stream",
     "text": [
      "11\n",
      "11\n"
     ]
    }
   ],
   "source": [
    "class Array"
   ]
  },
  {
   "cell_type": "code",
   "execution_count": 49,
   "id": "65db9c29",
   "metadata": {},
   "outputs": [
    {
     "name": "stdout",
     "output_type": "stream",
     "text": [
      "Before inserted data in array: 1 5 2 4 5 6 \n",
      "After inserted data in array: 1 2 3 5 2 4 5 6 7 \n",
      "no. of 5 occurence in array is 2 \n",
      "Accessing 1st Element from array: 1\n",
      "Remove Element from Array:\n",
      "Pop element at location: 0 and Element is 1\n",
      "Pop element at location: 1 and Element is 3\n",
      "array('i', [2, 2, 4, 5, 6, 7])\n",
      "array('i', [5, 6])\n",
      "array('i', [2])\n",
      "index of 5 is 3\n"
     ]
    }
   ],
   "source": [
    "import array as arr\n",
    "inarr1=arr.array('i',[1,5,2,4,5,6,])\n",
    "\n",
    "print(\"Before inserted data in array:\",end=\" \")\n",
    "for i in range(0,len(inarr1)):\n",
    "    print(inarr1[i],end=\" \")\n",
    "print()\n",
    "inarr1.insert(1,2)\n",
    "inarr1.insert(2,3)\n",
    "inarr1.append(7)\n",
    "print(\"After inserted data in array:\",end=\" \")\n",
    "for i in range(0,len(inarr1)):\n",
    "    print(inarr1[i],end=\" \")\n",
    "print()\n",
    "print(f\"no. of 5 occurence in array is {inarr1.count(5)} \")\n",
    "print(\"Accessing 1st Element from array:\",inarr1[0])\n",
    "\n",
    "inarr1.remove(5)\n",
    "print(\"Remove Element from Array:\")\n",
    "for i in range(0,2):\n",
    "    print(f\"Pop element at location: {i} and Element is {inarr1[i]}\")\n",
    "    inarr1.pop(i)\n",
    "    \n",
    "print(inarr1)\n",
    "\n",
    "slicig_arr=inarr1[3:5]\n",
    "print(slicig_arr)\n",
    "slicing_arr=inarr1[0:-5]\n",
    "print(slicing_arr)\n",
    "\n",
    "print(f\"index of 5 is {inarr1.index(5)}\")"
   ]
  },
  {
   "cell_type": "code",
   "execution_count": null,
   "id": "4168d2d4",
   "metadata": {},
   "outputs": [],
   "source": []
  },
  {
   "cell_type": "code",
   "execution_count": null,
   "id": "941823b0",
   "metadata": {},
   "outputs": [],
   "source": []
  },
  {
   "cell_type": "code",
   "execution_count": null,
   "id": "780512b2",
   "metadata": {},
   "outputs": [],
   "source": []
  },
  {
   "cell_type": "code",
   "execution_count": 78,
   "id": "e49f9b07",
   "metadata": {},
   "outputs": [
    {
     "name": "stdout",
     "output_type": "stream",
     "text": [
      "2\n",
      "6\n",
      "15\n",
      "24\n"
     ]
    }
   ],
   "source": [
    "list=[1,2,3,4]\n",
    "lst=[2,3,5,6]\n",
    "for i,j in zip(list,lst):\n",
    "    print(i*j)"
   ]
  },
  {
   "cell_type": "code",
   "execution_count": 12,
   "id": "3ab06a1c",
   "metadata": {},
   "outputs": [
    {
     "ename": "AttributeError",
     "evalue": "'Mobile' object has no attribute 'version'",
     "output_type": "error",
     "traceback": [
      "\u001b[1;31m---------------------------------------------------------------------------\u001b[0m",
      "\u001b[1;31mAttributeError\u001b[0m                            Traceback (most recent call last)",
      "\u001b[1;32m~\\AppData\\Local\\Temp/ipykernel_2352/3708504179.py\u001b[0m in \u001b[0;36m<module>\u001b[1;34m\u001b[0m\n\u001b[1;32m----> 1\u001b[1;33m \u001b[0mprint\u001b[0m\u001b[1;33m(\u001b[0m\u001b[0mmob2\u001b[0m\u001b[1;33m.\u001b[0m\u001b[0mversion\u001b[0m\u001b[1;33m)\u001b[0m\u001b[1;33m\u001b[0m\u001b[1;33m\u001b[0m\u001b[0m\n\u001b[0m",
      "\u001b[1;31mAttributeError\u001b[0m: 'Mobile' object has no attribute 'version'"
     ]
    }
   ],
   "source": [
    "print(mob2.version)"
   ]
  },
  {
   "cell_type": "code",
   "execution_count": 40,
   "id": "07303cf6",
   "metadata": {},
   "outputs": [],
   "source": [
    "class vehicle:\n",
    "    def __init__(self,mileage,fuel_left):\n",
    "        self.mileage=mileage\n",
    "        self.fuel_left=fuel_left\n",
    "    def identify_distance_that_can_be_travelled(self):\n",
    "        if self.fuel_left<=5:\n",
    "            return 0 \n",
    "        else:\n",
    "            distance=(self.fuel_left-5)*self.mileage\n",
    "            return distance\n",
    "    def identify_distance_travelled(self,initial_fuel):\n",
    "        distance=(initial_fuel*self.mileage-self.fuel_left*self.mileage)\n",
    "        return distance\n",
    "\n"
   ]
  },
  {
   "cell_type": "code",
   "execution_count": 42,
   "id": "beb51375",
   "metadata": {},
   "outputs": [],
   "source": [
    "car=vehicle(12,6)\n"
   ]
  },
  {
   "cell_type": "code",
   "execution_count": 43,
   "id": "0974e663",
   "metadata": {},
   "outputs": [
    {
     "data": {
      "text/plain": [
       "228"
      ]
     },
     "execution_count": 43,
     "metadata": {},
     "output_type": "execute_result"
    }
   ],
   "source": [
    "car.identify_distance_that_can_be_travelled()\n",
    "car.identify_distance_travelled(25)"
   ]
  },
  {
   "cell_type": "code",
   "execution_count": 9,
   "id": "4886c16c",
   "metadata": {},
   "outputs": [
    {
     "name": "stdout",
     "output_type": "stream",
     "text": [
      "Value of x is :  100\n"
     ]
    }
   ],
   "source": [
    "x = 10\n",
    "def change(p): \n",
    "    p = x ** 2\n",
    "    return p\n",
    "x = change(x)\n",
    "print(\"Value of x is : \", x)"
   ]
  },
  {
   "cell_type": "code",
   "execution_count": 44,
   "id": "3bef7aa6",
   "metadata": {},
   "outputs": [
    {
     "name": "stdout",
     "output_type": "stream",
     "text": [
      "price 1000 and material Canvas\n"
     ]
    }
   ],
   "source": [
    "class Shoe:\n",
    "    def __init__(self, price, material):\n",
    "        self.price = price\n",
    "        self.material = material\n",
    "    def __str__(self):\n",
    "        return f\"price {self.price} and material {self.material}\"\n",
    "s1=Shoe(1000, \"Canvas\")\n",
    "print(s1)\n",
    "                                                    "
   ]
  },
  {
   "cell_type": "code",
   "execution_count": 39,
   "id": "5a1d3071",
   "metadata": {},
   "outputs": [],
   "source": [
    "class Student:\n",
    "    Roll_no=1000\n",
    "    def __init__(self,name,brance,year):\n",
    "        num=19\n",
    "        self.name=name\n",
    "        self.brance=brance\n",
    "        self.year=year\n",
    "        self.s_id=Student.Roll_no\n",
    "        print(name,num)\n",
    "        Student.Roll_no+=1\n",
    "    @staticmethod\n",
    "    def total_no_of_student():\n",
    "        return Student.Roll_no"
   ]
  },
  {
   "cell_type": "code",
   "execution_count": 40,
   "id": "591eff0e",
   "metadata": {},
   "outputs": [
    {
     "name": "stdout",
     "output_type": "stream",
     "text": [
      "Rajesh Prajapati 19\n"
     ]
    }
   ],
   "source": [
    "Rajesh=Student(\"Rajesh Prajapati\",\"CSE\",2019)"
   ]
  },
  {
   "cell_type": "code",
   "execution_count": 41,
   "id": "53ba88be",
   "metadata": {},
   "outputs": [
    {
     "name": "stdout",
     "output_type": "stream",
     "text": [
      "Ranveer Singh Ranawat 19\n"
     ]
    }
   ],
   "source": [
    "Ranveer=Student(\"Ranveer Singh Ranawat\",\"CSE\",2019)"
   ]
  },
  {
   "cell_type": "code",
   "execution_count": 42,
   "id": "5af7fdb8",
   "metadata": {},
   "outputs": [
    {
     "data": {
      "text/plain": [
       "1002"
      ]
     },
     "execution_count": 42,
     "metadata": {},
     "output_type": "execute_result"
    }
   ],
   "source": [
    "Student.total_no_of_student()"
   ]
  },
  {
   "cell_type": "code",
   "execution_count": 19,
   "id": "e75df246",
   "metadata": {},
   "outputs": [
    {
     "data": {
      "text/plain": [
       "1003"
      ]
     },
     "execution_count": 19,
     "metadata": {},
     "output_type": "execute_result"
    }
   ],
   "source": [
    "Ranveer."
   ]
  },
  {
   "cell_type": "code",
   "execution_count": 37,
   "id": "84f956ad",
   "metadata": {},
   "outputs": [],
   "source": [
    "class A:\n",
    "    num=5\n",
    "    def __init__(self,status):\n",
    "        num=10\n",
    "        print(\"invok\")\n",
    "        self.status=status\n",
    "        print(status,num)\n",
    "    def get_status(self):\n",
    "        return self.status"
   ]
  },
  {
   "cell_type": "code",
   "execution_count": 38,
   "id": "b09a1e28",
   "metadata": {},
   "outputs": [
    {
     "name": "stdout",
     "output_type": "stream",
     "text": [
      "invok\n",
      "a 10\n"
     ]
    },
    {
     "data": {
      "text/plain": [
       "'a'"
      ]
     },
     "execution_count": 38,
     "metadata": {},
     "output_type": "execute_result"
    }
   ],
   "source": [
    "aa=A('a')\n",
    "aa.get_status()"
   ]
  },
  {
   "cell_type": "code",
   "execution_count": 43,
   "id": "67240b4e",
   "metadata": {},
   "outputs": [],
   "source": [
    "class Util:\n",
    "    def is_valid_number (amount):\n",
    "        try:\n",
    "            if (float(amount))>0 :\n",
    "                return True\n",
    "            return False\n",
    "        except:\n",
    "            return False\n",
    "\n",
    "class AccountUI:\n",
    "    def get_input_for_deposit(self, amount):\n",
    "        if (not Util().is_valid_number(amount)):\n",
    "            print(\"Amount should be greater than 0. Try again\")\n",
    "        else:\n",
    "            print(\"Successfully deposited\")"
   ]
  },
  {
   "cell_type": "code",
   "execution_count": 47,
   "id": "1ac268c7",
   "metadata": {},
   "outputs": [
    {
     "ename": "AttributeError",
     "evalue": "'AccountUI' object has no attribute 'get_input_for_deposti'",
     "output_type": "error",
     "traceback": [
      "\u001b[1;31m---------------------------------------------------------------------------\u001b[0m",
      "\u001b[1;31mAttributeError\u001b[0m                            Traceback (most recent call last)",
      "\u001b[1;32m~\\AppData\\Local\\Temp/ipykernel_13804/1377764035.py\u001b[0m in \u001b[0;36m<module>\u001b[1;34m\u001b[0m\n\u001b[1;32m----> 1\u001b[1;33m \u001b[0mAccountUI\u001b[0m\u001b[1;33m(\u001b[0m\u001b[1;33m)\u001b[0m\u001b[1;33m.\u001b[0m\u001b[0mget_input_for_deposti\u001b[0m\u001b[1;33m(\u001b[0m\u001b[1;33m-\u001b[0m\u001b[1;36m2000\u001b[0m\u001b[1;33m)\u001b[0m\u001b[1;33m\u001b[0m\u001b[1;33m\u001b[0m\u001b[0m\n\u001b[0m",
      "\u001b[1;31mAttributeError\u001b[0m: 'AccountUI' object has no attribute 'get_input_for_deposti'"
     ]
    }
   ],
   "source": [
    "AccountUI().get_input_for_deposti(-2000)"
   ]
  },
  {
   "cell_type": "code",
   "execution_count": 44,
   "id": "1986131f",
   "metadata": {},
   "outputs": [],
   "source": [
    "class Util:\n",
    "    def is_valid_number (amount):\n",
    "        try:\n",
    "            if (float(amount))>0 :\n",
    "                return True\n",
    "            return False\n",
    "        except:\n",
    "            return False\n",
    "class AccountUI:\n",
    "    def get_input_for_deposit(self, amount):\n",
    "        if (not Util.is_valid_number(amount)):\n",
    "            print(\"Amount should be greater than 0. Try again\")\n",
    "        else:\n",
    "            print(\"Successfully deposited\")\n",
    "            "
   ]
  },
  {
   "cell_type": "code",
   "execution_count": 45,
   "id": "b98ce64a",
   "metadata": {},
   "outputs": [
    {
     "ename": "AttributeError",
     "evalue": "'AccountUI' object has no attribute 'get_input_for_deposti'",
     "output_type": "error",
     "traceback": [
      "\u001b[1;31m---------------------------------------------------------------------------\u001b[0m",
      "\u001b[1;31mAttributeError\u001b[0m                            Traceback (most recent call last)",
      "\u001b[1;32m~\\AppData\\Local\\Temp/ipykernel_13804/3013444895.py\u001b[0m in \u001b[0;36m<module>\u001b[1;34m\u001b[0m\n\u001b[1;32m----> 1\u001b[1;33m \u001b[0mAccountUI\u001b[0m\u001b[1;33m(\u001b[0m\u001b[1;33m)\u001b[0m\u001b[1;33m.\u001b[0m\u001b[0mget_input_for_deposti\u001b[0m\u001b[1;33m(\u001b[0m\u001b[1;34m\"-2000\"\u001b[0m\u001b[1;33m)\u001b[0m\u001b[1;33m\u001b[0m\u001b[1;33m\u001b[0m\u001b[0m\n\u001b[0m",
      "\u001b[1;31mAttributeError\u001b[0m: 'AccountUI' object has no attribute 'get_input_for_deposti'"
     ]
    }
   ],
   "source": [
    "AccountUI().get_input_for_deposti(\"-2000\")"
   ]
  },
  {
   "cell_type": "code",
   "execution_count": 29,
   "id": "f8920926",
   "metadata": {},
   "outputs": [
    {
     "name": "stdout",
     "output_type": "stream",
     "text": [
      "DM01\n"
     ]
    }
   ],
   "source": [
    "\n",
    "\n",
    "class Ticket:\n",
    "    counter=0\n",
    "    def __init__(self,passenger_name,source,destination):\n",
    "        self.__passenger_name=passenger_name\n",
    "        self.__source=source\n",
    "        self.__destination=destination\n",
    "        self.__ticket_id=None\n",
    "        \n",
    "    @staticmethod \n",
    "    def validate_source_destination(source,destination):\n",
    "        destination_lst=[\"Mumbai\",\"Chennai\",\"Pune\",\"Kolkata\"]\n",
    "        if source==\"Delhi\":\n",
    "            if destination in destination_lst:\n",
    "                return True\n",
    "            else:\n",
    "                return False\n",
    "        else:\n",
    "            return False    \n",
    "    def generate_ticket(self):\n",
    "        if Ticket.validate_source_destination(self.__source,self.__destination):\n",
    "                self.__ticket_id=self.__source[0]+self.__destination[0]+\"0\"+str(Ticket.counter+1)\n",
    "                Ticket.counter+=1\n",
    "        else:\n",
    "            self.__ticket_id=None\n",
    "        \n",
    "        Ticket.counter+=1\n",
    "    def get_ticket_id(self):\n",
    "        return self.__ticket_id\n",
    "    def get_passenger_name(self):\n",
    "        return self.passenger_name\n",
    "    def get_source(self):\n",
    "        return self.source\n",
    "    def get_destination(self):\n",
    "        return self.destination\n",
    "rajesh=Ticket(\"Ram\",\"Delhi\",\"Mumbai\")\n",
    "rajesh.generate_ticket()\n",
    "print(rajesh.get_ticket_id())"
   ]
  },
  {
   "cell_type": "code",
   "execution_count": 69,
   "id": "06ea6905",
   "metadata": {},
   "outputs": [],
   "source": [
    "rajesh=Ticket(\"Rajesh\",\"Delhi\",\"Pune\")\n"
   ]
  },
  {
   "cell_type": "code",
   "execution_count": 32,
   "id": "06d6f83d",
   "metadata": {},
   "outputs": [
    {
     "ename": "NameError",
     "evalue": "name 'get_source' is not defined",
     "output_type": "error",
     "traceback": [
      "\u001b[1;31m---------------------------------------------------------------------------\u001b[0m",
      "\u001b[1;31mNameError\u001b[0m                                 Traceback (most recent call last)",
      "\u001b[1;32m~\\AppData\\Local\\Temp/ipykernel_10084/2466774781.py\u001b[0m in \u001b[0;36m<module>\u001b[1;34m\u001b[0m\n\u001b[0;32m     34\u001b[0m         \u001b[1;32mreturn\u001b[0m \u001b[0mself\u001b[0m\u001b[1;33m.\u001b[0m\u001b[0mdestination\u001b[0m\u001b[1;33m\u001b[0m\u001b[1;33m\u001b[0m\u001b[0m\n\u001b[0;32m     35\u001b[0m \u001b[0mrajesh\u001b[0m\u001b[1;33m=\u001b[0m\u001b[0mTicket\u001b[0m\u001b[1;33m(\u001b[0m\u001b[1;34m\"Ram\"\u001b[0m\u001b[1;33m,\u001b[0m\u001b[1;34m\"Delhi\"\u001b[0m\u001b[1;33m,\u001b[0m\u001b[1;34m\"Mumbai\"\u001b[0m\u001b[1;33m)\u001b[0m\u001b[1;33m\u001b[0m\u001b[1;33m\u001b[0m\u001b[0m\n\u001b[1;32m---> 36\u001b[1;33m \u001b[0mrajesh\u001b[0m\u001b[1;33m.\u001b[0m\u001b[0mgenerate_ticket\u001b[0m\u001b[1;33m(\u001b[0m\u001b[1;33m)\u001b[0m\u001b[1;33m\u001b[0m\u001b[1;33m\u001b[0m\u001b[0m\n\u001b[0m\u001b[0;32m     37\u001b[0m \u001b[0mprint\u001b[0m\u001b[1;33m(\u001b[0m\u001b[0mrajesh\u001b[0m\u001b[1;33m.\u001b[0m\u001b[0mget_ticket_id\u001b[0m\u001b[1;33m(\u001b[0m\u001b[1;33m)\u001b[0m\u001b[1;33m)\u001b[0m\u001b[1;33m\u001b[0m\u001b[1;33m\u001b[0m\u001b[0m\n",
      "\u001b[1;32m~\\AppData\\Local\\Temp/ipykernel_10084/2466774781.py\u001b[0m in \u001b[0;36mgenerate_ticket\u001b[1;34m(self)\u001b[0m\n\u001b[0;32m     18\u001b[0m             \u001b[1;32mreturn\u001b[0m \u001b[1;32mFalse\u001b[0m\u001b[1;33m\u001b[0m\u001b[1;33m\u001b[0m\u001b[0m\n\u001b[0;32m     19\u001b[0m     \u001b[1;32mdef\u001b[0m \u001b[0mgenerate_ticket\u001b[0m\u001b[1;33m(\u001b[0m\u001b[0mself\u001b[0m\u001b[1;33m)\u001b[0m\u001b[1;33m:\u001b[0m\u001b[1;33m\u001b[0m\u001b[1;33m\u001b[0m\u001b[0m\n\u001b[1;32m---> 20\u001b[1;33m         \u001b[1;32mif\u001b[0m \u001b[0mTicket\u001b[0m\u001b[1;33m.\u001b[0m\u001b[0mvalidate_source_destination\u001b[0m\u001b[1;33m(\u001b[0m\u001b[1;33m)\u001b[0m\u001b[1;33m:\u001b[0m\u001b[1;33m\u001b[0m\u001b[1;33m\u001b[0m\u001b[0m\n\u001b[0m\u001b[0;32m     21\u001b[0m                 \u001b[0mself\u001b[0m\u001b[1;33m.\u001b[0m\u001b[0m__ticket_id\u001b[0m\u001b[1;33m=\u001b[0m\u001b[0mself\u001b[0m\u001b[1;33m.\u001b[0m\u001b[0m__source\u001b[0m\u001b[1;33m[\u001b[0m\u001b[1;36m0\u001b[0m\u001b[1;33m]\u001b[0m\u001b[1;33m+\u001b[0m\u001b[0mself\u001b[0m\u001b[1;33m.\u001b[0m\u001b[0m__destination\u001b[0m\u001b[1;33m[\u001b[0m\u001b[1;36m0\u001b[0m\u001b[1;33m]\u001b[0m\u001b[1;33m+\u001b[0m\u001b[1;34m\"0\"\u001b[0m\u001b[1;33m+\u001b[0m\u001b[0mstr\u001b[0m\u001b[1;33m(\u001b[0m\u001b[0mTicket\u001b[0m\u001b[1;33m.\u001b[0m\u001b[0mcounter\u001b[0m\u001b[1;33m+\u001b[0m\u001b[1;36m1\u001b[0m\u001b[1;33m)\u001b[0m\u001b[1;33m\u001b[0m\u001b[1;33m\u001b[0m\u001b[0m\n\u001b[0;32m     22\u001b[0m                 \u001b[0mTicket\u001b[0m\u001b[1;33m.\u001b[0m\u001b[0mcounter\u001b[0m\u001b[1;33m+=\u001b[0m\u001b[1;36m1\u001b[0m\u001b[1;33m\u001b[0m\u001b[1;33m\u001b[0m\u001b[0m\n",
      "\u001b[1;32m~\\AppData\\Local\\Temp/ipykernel_10084/2466774781.py\u001b[0m in \u001b[0;36mvalidate_source_destination\u001b[1;34m()\u001b[0m\n\u001b[0;32m     10\u001b[0m     \u001b[1;32mdef\u001b[0m \u001b[0mvalidate_source_destination\u001b[0m\u001b[1;33m(\u001b[0m\u001b[1;33m)\u001b[0m\u001b[1;33m:\u001b[0m\u001b[1;33m\u001b[0m\u001b[1;33m\u001b[0m\u001b[0m\n\u001b[0;32m     11\u001b[0m         \u001b[0mdestination_lst\u001b[0m\u001b[1;33m=\u001b[0m\u001b[1;33m[\u001b[0m\u001b[1;34m\"Mumbai\"\u001b[0m\u001b[1;33m,\u001b[0m\u001b[1;34m\"Chennai\"\u001b[0m\u001b[1;33m,\u001b[0m\u001b[1;34m\"Pune\"\u001b[0m\u001b[1;33m,\u001b[0m\u001b[1;34m\"Kolkata\"\u001b[0m\u001b[1;33m]\u001b[0m\u001b[1;33m\u001b[0m\u001b[1;33m\u001b[0m\u001b[0m\n\u001b[1;32m---> 12\u001b[1;33m         \u001b[1;32mif\u001b[0m \u001b[0mget_source\u001b[0m\u001b[1;33m(\u001b[0m\u001b[1;33m)\u001b[0m\u001b[1;33m==\u001b[0m\u001b[1;34m\"Delhi\"\u001b[0m\u001b[1;33m:\u001b[0m\u001b[1;33m\u001b[0m\u001b[1;33m\u001b[0m\u001b[0m\n\u001b[0m\u001b[0;32m     13\u001b[0m             \u001b[1;32mif\u001b[0m \u001b[0mget_destination\u001b[0m\u001b[1;33m(\u001b[0m\u001b[1;33m)\u001b[0m \u001b[1;32min\u001b[0m \u001b[0mdestination_lst\u001b[0m\u001b[1;33m:\u001b[0m\u001b[1;33m\u001b[0m\u001b[1;33m\u001b[0m\u001b[0m\n\u001b[0;32m     14\u001b[0m                 \u001b[1;32mreturn\u001b[0m \u001b[1;32mTrue\u001b[0m\u001b[1;33m\u001b[0m\u001b[1;33m\u001b[0m\u001b[0m\n",
      "\u001b[1;31mNameError\u001b[0m: name 'get_source' is not defined"
     ]
    }
   ],
   "source": [
    "\n",
    "\n",
    "class Ticket:\n",
    "    counter=0\n",
    "    def __init__(self,passenger_name,source,destination):\n",
    "        self.__passenger_name=passenger_name\n",
    "        self.__source=source\n",
    "        self.__destination=destination\n",
    "        self.__ticket_id=None\n",
    "        \n",
    "    @staticmethod \n",
    "    def validate_source_destination():\n",
    "        destination_lst=[\"Mumbai\",\"Chennai\",\"Pune\",\"Kolkata\"]\n",
    "        if get_source()==\"Delhi\":\n",
    "            if get_destination() in destination_lst:\n",
    "                return True\n",
    "            else:\n",
    "                return False\n",
    "        else:\n",
    "            return False    \n",
    "    def generate_ticket(self):\n",
    "        if Ticket.validate_source_destination():\n",
    "                self.__ticket_id=self.__source[0]+self.__destination[0]+\"0\"+str(Ticket.counter+1)\n",
    "                Ticket.counter+=1\n",
    "        else:\n",
    "            self.__ticket_id=None\n",
    "        \n",
    "        Ticket.counter+=1\n",
    "    def get_ticket_id(self):\n",
    "        return self.__ticket_id\n",
    "    def get_passenger_name(self):\n",
    "        return self.passenger_name\n",
    "    def get_source(self):\n",
    "        return self.source\n",
    "    def get_destination(self):\n",
    "        return self.destination\n",
    "rajesh=Ticket(\"Ram\",\"Delhi\",\"Mumbai\")\n",
    "rajesh.generate_ticket()\n",
    "print(rajesh.get_ticket_id())"
   ]
  },
  {
   "cell_type": "code",
   "execution_count": 20,
   "id": "727692ff",
   "metadata": {},
   "outputs": [],
   "source": [
    "class Flower:\n",
    "    def __init__(self):\n",
    "        self.__flower_name=None\n",
    "        self.__price_per_kg=None\n",
    "        self.__stock_available=None\n",
    "        \n",
    "    def check_level(self):\n",
    "        flower_table={\"Orchild\":15,\"Rose\":25,\"Jasmin\":40}\n",
    "        for key,value in flower_table.items():\n",
    "            if key==self.__flower_name:\n",
    "                if value<=self.__stock_available:\n",
    "                    return True\n",
    "                else:\n",
    "                    return False\n",
    "            else:\n",
    "                return False\n",
    "    def validate_flower(self):\n",
    "        Flower_lst=[\"Orchil\",\"Rose\",\"Jasmine\"]\n",
    "        if self.__flower_name.title() in Flower_lst:\n",
    "            return True\n",
    "        else:\n",
    "            return False\n",
    "    def validate_stock(self,required_quantity):\n",
    "        if self.__stock_awailable >=required_quantity:\n",
    "            return True\n",
    "        else:\n",
    "            return False\n",
    "    def sell_flower(self,required_quantity):\n",
    "        if self.validate_stock(required_quantity) and self.validate_flower():\n",
    "            return True\n",
    "        else:\n",
    "            return False\n",
    "    def set_flower_name(self,flower_name):\n",
    "        self.__flower_name=flower_name\n",
    "        \n",
    "    def get_flower_name(self):\n",
    "        return self.__price_per_kg\n",
    "    \n",
    "    def set_stock_available(self,stock_available):\n",
    "        self.__stock_available=stock_available\n",
    "        \n",
    "    def get_stock_available(self):\n",
    "        return self.__stock_available\n",
    "    \n",
    "    def set_price_per_kg(self,price_per_kg):\n",
    "        self.__price_per_kg=price_per_kg\n",
    "        \n",
    "    def get_price_per_kg(self):\n",
    "        return self.__price_per_kg\n",
    "    "
   ]
  },
  {
   "cell_type": "code",
   "execution_count": null,
   "id": "67723546",
   "metadata": {},
   "outputs": [],
   "source": []
  },
  {
   "cell_type": "code",
   "execution_count": 23,
   "id": "9cd3e9c3",
   "metadata": {},
   "outputs": [
    {
     "name": "stdout",
     "output_type": "stream",
     "text": [
      "rajesh 124\n",
      "harshita 234\n",
      "nancy 223\n"
     ]
    }
   ],
   "source": [
    "dict={\"rajesh\":124,\"harshita\":234,\"nancy\":223}\n",
    "\n",
    "for key,value in dict.items():\n",
    "    print(key,value)\n",
    " "
   ]
  },
  {
   "cell_type": "code",
   "execution_count": null,
   "id": "fa4454d2",
   "metadata": {},
   "outputs": [],
   "source": [
    "def check_level(self):\n",
    "        flower_table={\"Orchild\":15,\"Rose\":25,\"Jasmin\":40}\n",
    "        for key,value in flower_table.items():\n",
    "            if key==self.__flower_name:\n",
    "                if value==self.__stock_available:\n",
    "                    return True\n",
    "                else:\n",
    "                    return False\n",
    "            else:\n",
    "                return False"
   ]
  },
  {
   "cell_type": "code",
   "execution_count": null,
   "id": "c886c0de",
   "metadata": {},
   "outputs": [],
   "source": []
  },
  {
   "cell_type": "code",
   "execution_count": 58,
   "id": "5322c835",
   "metadata": {},
   "outputs": [],
   "source": [
    "class Customer:\n",
    "    def __init__(self,name,age,phone_no,address):\n",
    "        self.customer_name=name\n",
    "        self.age=age\n",
    "        self.phone_no=phone_no\n",
    "        self.address=address\n",
    "    def view_details(self):\n",
    "        print (\" Customeer Name:\",self.customer_name,'\\n',\"Customer Age:\",self.age,'\\n', \"Customer Phone No.:\",self.phone_no)\n",
    "        print(\" Customer Address:\",self.address.get_door_no(),self.address.get_street(),\"pin code\",self.address.get_pincode())\n",
    "class Address:\n",
    "    def __init__(self, door_no, street, pincode):\n",
    "        self.__door_no=door_no\n",
    "        self.__street=street \n",
    "        self.__pincode=pincode\n",
    "    def get_door_no(self):\n",
    "        return self.__door_no\n",
    "    def get_street(self):\n",
    "        return self.__street\n",
    "    def get_pincode(self):\n",
    "        return self.__pincode"
   ]
  },
  {
   "cell_type": "code",
   "execution_count": 59,
   "id": "f0655def",
   "metadata": {},
   "outputs": [],
   "source": [
    "add1=Address(123,'5th line',306502)\n",
    "cust1=Customer('Rajesh Prajapati',20,'9587469183',add1)"
   ]
  },
  {
   "cell_type": "code",
   "execution_count": 60,
   "id": "5c65580b",
   "metadata": {},
   "outputs": [
    {
     "name": "stdout",
     "output_type": "stream",
     "text": [
      " Customeer Name: Rajesh Prajapati \n",
      " Customer Age: 20 \n",
      " Customer Phone No.: 9587469183\n",
      " Customer Address: 123 5th line pin code 306502\n"
     ]
    }
   ],
   "source": [
    "cust1.view_details()"
   ]
  },
  {
   "cell_type": "code",
   "execution_count": 70,
   "id": "1e7e1cf0",
   "metadata": {},
   "outputs": [],
   "source": [
    "class Customer:\n",
    "    def __init__(self,name,age,phone_no):\n",
    "        self.name=name\n",
    "        self.age=age\n",
    "        self.phone_no=phone_no\n",
    "        \n",
    "    def purchase(self,payment):\n",
    "        if payment.type==\"card\":\n",
    "            print(\"Paying by card\")\n",
    "        elif payment.type=='e_wallet':\n",
    "            print(\"Paying by e_wallet\")\n",
    "        else:\n",
    "            print(\"paying by Case\")\n",
    "class Payment:\n",
    "    def __init__(self,type):\n",
    "        self.type=type\n",
    "    "
   ]
  },
  {
   "cell_type": "code",
   "execution_count": 68,
   "id": "6eb37da3",
   "metadata": {},
   "outputs": [
    {
     "ename": "TypeError",
     "evalue": "Customer() takes no arguments",
     "output_type": "error",
     "traceback": [
      "\u001b[1;31m---------------------------------------------------------------------------\u001b[0m",
      "\u001b[1;31mTypeError\u001b[0m                                 Traceback (most recent call last)",
      "\u001b[1;32m~\\AppData\\Local\\Temp/ipykernel_7836/1210178352.py\u001b[0m in \u001b[0;36m<module>\u001b[1;34m\u001b[0m\n\u001b[0;32m      1\u001b[0m \u001b[0mpay1\u001b[0m\u001b[1;33m=\u001b[0m\u001b[0mPayment\u001b[0m\u001b[1;33m(\u001b[0m\u001b[1;34m\"card\"\u001b[0m\u001b[1;33m)\u001b[0m\u001b[1;33m\u001b[0m\u001b[1;33m\u001b[0m\u001b[0m\n\u001b[1;32m----> 2\u001b[1;33m \u001b[0mcus1\u001b[0m\u001b[1;33m=\u001b[0m\u001b[0mCustomer\u001b[0m\u001b[1;33m(\u001b[0m\u001b[1;34m'Rajesh'\u001b[0m\u001b[1;33m,\u001b[0m\u001b[1;36m20\u001b[0m\u001b[1;33m,\u001b[0m\u001b[1;34m'9587469183'\u001b[0m\u001b[1;33m)\u001b[0m\u001b[1;33m\u001b[0m\u001b[1;33m\u001b[0m\u001b[0m\n\u001b[0m\u001b[0;32m      3\u001b[0m \u001b[0mcus1\u001b[0m\u001b[1;33m.\u001b[0m\u001b[0mpurchase\u001b[0m\u001b[1;33m(\u001b[0m\u001b[0mpay1\u001b[0m\u001b[1;33m)\u001b[0m\u001b[1;33m\u001b[0m\u001b[1;33m\u001b[0m\u001b[0m\n",
      "\u001b[1;31mTypeError\u001b[0m: Customer() takes no arguments"
     ]
    }
   ],
   "source": []
  },
  {
   "cell_type": "code",
   "execution_count": 71,
   "id": "3b283e53",
   "metadata": {},
   "outputs": [
    {
     "name": "stdout",
     "output_type": "stream",
     "text": [
      "Paying by card\n"
     ]
    }
   ],
   "source": [
    "payment1=Payment(\"card\")\n",
    "c=Customer(\"Jack\",23,1234)\n",
    "\n",
    "c.purchase(payment1)"
   ]
  },
  {
   "cell_type": "code",
   "execution_count": 75,
   "id": "a0075749",
   "metadata": {},
   "outputs": [],
   "source": [
    "class Parrots:\n",
    "    counter=7001\n",
    "    def __init__name(self,name,color):\n",
    "        self.__name=name\n",
    "        self.__color=color\n",
    "        self.__parrot_no=counter\n",
    "        counter+=1\n",
    "    \n",
    "    def get_name(self):\n",
    "        return self.__name\n",
    "    def get_color(self):\n",
    "        return self.__color\n",
    "    def get_parrot(self):\n",
    "        return self.__parrot_no"
   ]
  },
  {
   "cell_type": "code",
   "execution_count": null,
   "id": "d9cd83ce",
   "metadata": {},
   "outputs": [],
   "source": []
  },
  {
   "cell_type": "code",
   "execution_count": 60,
   "id": "bec266f3",
   "metadata": {},
   "outputs": [],
   "source": [
    "class Customer:\n",
    "    def __init__(self,customer_id,customer_name,address):\n",
    "        self.customer_id=customer_id\n",
    "        self.customer_name=customer_name\n",
    "        self.address=address\n",
    "    def get_customer_id(self):\n",
    "        return self.customer_id\n",
    "    def get_customer_name(self):\n",
    "        return self.customer_name\n",
    "    def get_address(self):\n",
    "        return self.address\n",
    "    def validate_customer(self):\n",
    "        digit=str(self.customer_id)\n",
    "        if (len(digit)== 6) and (digit[0]== '1'):\n",
    "            return True\n",
    "        else:\n",
    "            return False\n",
    "class Freigh:\n",
    "    counter=200\n",
    "    def __init__(self,recipient_customer,from_customer,weight,distance):\n",
    "        self.__recipient_customer=recipient_customer\n",
    "        self.__from_customer=from_customer\n",
    "        self.__weight=weight\n",
    "        self.__distance=distance\n",
    "        self.__freigh_charge=None\n",
    "        self.__freigh_id=Freigh.counter\n",
    "        Freigh.counter+=2\n",
    "    def get_recipient_customer(self):\n",
    "        return self.__recipient_customer\n",
    "    def get_weight(self):\n",
    "        return self.__weigh\n",
    "    def get_distance(self):\n",
    "        return self.__distance\n",
    "    def get_freigh_id(self):\n",
    "        return self.__fteigh_id\n",
    "    def get_freigh_charge(self):\n",
    "        return self.__freigh_charge\n",
    "    \n",
    "    def get_from_customer(self):\n",
    "        return self.__from_customer\n",
    "    \n",
    "    def validate_weight(self):\n",
    "        if self.get_weight()%5==0:\n",
    "            return True\n",
    "        else:\n",
    "            return False\n",
    "    def validate_distance(self):\n",
    "        if self.distance>=500 and self.distance<=5000:\n",
    "            return True \n",
    "        else:\n",
    "            return False\n",
    "    def forward_cargo(self):\n",
    "        if validate__weight(self.weight) and validate_distance(self.distance) and self.from_customer.validate_customer():\n",
    "            calculate_freigh_charge=(self.weight*150)+(self.distance*60)\n",
    "            return calulate_freigh_charge"
   ]
  },
  {
   "cell_type": "code",
   "execution_count": null,
   "id": "442f1e30",
   "metadata": {},
   "outputs": [],
   "source": []
  },
  {
   "cell_type": "code",
   "execution_count": 63,
   "id": "bcba0ebf",
   "metadata": {},
   "outputs": [
    {
     "data": {
      "text/plain": [
       "False"
      ]
     },
     "execution_count": 63,
     "metadata": {},
     "output_type": "execute_result"
    }
   ],
   "source": [
    "class Customer:\n",
    "    def __init__(self,customer_id,customer_name,address):\n",
    "        self.customer_id=customer_id\n",
    "        self.customer_name=customer_name\n",
    "        self.address=address\n",
    "    def get_customer_id(self):\n",
    "        return self.customer_id\n",
    "    def get_customer_name(self):\n",
    "        return self.customer_name\n",
    "    def get_address(self):\n",
    "        return self.address\n",
    "    def validate_customer(self):\n",
    "        digit=str(self.customer_id)\n",
    "        if (len(digit)== 6) and (digit[0]== '1'):\n",
    "            print(digit[0])\n",
    "            return True\n",
    "        else:\n",
    "            return False\n",
    "cust1=Customer(523422,'raajapa','tamil nadu')\n",
    "cust1.validate_customer()"
   ]
  },
  {
   "cell_type": "code",
   "execution_count": 57,
   "id": "779892b4",
   "metadata": {},
   "outputs": [
    {
     "data": {
      "text/plain": [
       "True"
      ]
     },
     "execution_count": 57,
     "metadata": {},
     "output_type": "execute_result"
    }
   ],
   "source": []
  },
  {
   "cell_type": "code",
   "execution_count": null,
   "id": "d3970e18",
   "metadata": {},
   "outputs": [],
   "source": []
  },
  {
   "cell_type": "code",
   "execution_count": 17,
   "id": "a8aebb4a",
   "metadata": {},
   "outputs": [
    {
     "name": "stdout",
     "output_type": "stream",
     "text": [
      "1\n",
      "1\n",
      "2\n",
      "3\n"
     ]
    }
   ],
   "source": [
    "def fib(limit):\n",
    "    a,b=0,1\n",
    "    list=[]\n",
    "    \n",
    "    while a<limit:\n",
    "        a,b=b,a+b\n",
    "        yield a\n",
    "\n",
    "x=fib(5)\n",
    "x=iter(x)\n",
    "\n",
    "print(next(x))\n",
    "print(next(x))\n",
    "print(next(x))\n",
    "print(next(x))"
   ]
  },
  {
   "cell_type": "code",
   "execution_count": 10,
   "id": "9b0f5090",
   "metadata": {},
   "outputs": [
    {
     "name": "stdout",
     "output_type": "stream",
     "text": [
      "[1, 1, 2, 3, 5]\n"
     ]
    }
   ],
   "source": [
    "x=fib(5)\n",
    "print(x)"
   ]
  },
  {
   "cell_type": "code",
   "execution_count": 20,
   "id": "dce9c4fe",
   "metadata": {},
   "outputs": [
    {
     "ename": "KeyboardInterrupt",
     "evalue": "",
     "output_type": "error",
     "traceback": [
      "\u001b[1;31m---------------------------------------------------------------------------\u001b[0m",
      "\u001b[1;31mKeyboardInterrupt\u001b[0m                         Traceback (most recent call last)",
      "\u001b[1;32m~\\AppData\\Local\\Temp/ipykernel_14068/3209010622.py\u001b[0m in \u001b[0;36m<module>\u001b[1;34m\u001b[0m\n\u001b[0;32m      6\u001b[0m         \u001b[0mlst\u001b[0m\u001b[1;33m.\u001b[0m\u001b[0mappend\u001b[0m\u001b[1;33m(\u001b[0m\u001b[0ma\u001b[0m\u001b[1;33m)\u001b[0m\u001b[1;33m\u001b[0m\u001b[1;33m\u001b[0m\u001b[0m\n\u001b[0;32m      7\u001b[0m         \u001b[0mi\u001b[0m\u001b[1;33m+=\u001b[0m\u001b[1;36m1\u001b[0m\u001b[1;33m\u001b[0m\u001b[1;33m\u001b[0m\u001b[0m\n\u001b[1;32m----> 8\u001b[1;33m \u001b[1;32mfor\u001b[0m \u001b[0mnum\u001b[0m \u001b[1;32min\u001b[0m \u001b[0mnextvalue\u001b[0m\u001b[1;33m(\u001b[0m\u001b[1;33m)\u001b[0m\u001b[1;33m:\u001b[0m\u001b[1;33m\u001b[0m\u001b[1;33m\u001b[0m\u001b[0m\n\u001b[0m\u001b[0;32m      9\u001b[0m     \u001b[1;32mif\u001b[0m \u001b[0mnum\u001b[0m\u001b[1;33m>\u001b[0m\u001b[1;36m100\u001b[0m\u001b[1;33m:\u001b[0m\u001b[1;33m\u001b[0m\u001b[1;33m\u001b[0m\u001b[0m\n\u001b[0;32m     10\u001b[0m         \u001b[1;32mbreak\u001b[0m\u001b[1;33m\u001b[0m\u001b[1;33m\u001b[0m\u001b[0m\n",
      "\u001b[1;32m~\\AppData\\Local\\Temp/ipykernel_14068/3209010622.py\u001b[0m in \u001b[0;36mnextvalue\u001b[1;34m()\u001b[0m\n\u001b[0;32m      3\u001b[0m     \u001b[0mlst\u001b[0m\u001b[1;33m=\u001b[0m\u001b[1;33m[\u001b[0m\u001b[1;33m]\u001b[0m\u001b[1;33m\u001b[0m\u001b[1;33m\u001b[0m\u001b[0m\n\u001b[0;32m      4\u001b[0m     \u001b[1;32mwhile\u001b[0m \u001b[1;32mTrue\u001b[0m\u001b[1;33m:\u001b[0m\u001b[1;33m\u001b[0m\u001b[1;33m\u001b[0m\u001b[0m\n\u001b[1;32m----> 5\u001b[1;33m         \u001b[0ma\u001b[0m\u001b[1;33m=\u001b[0m \u001b[0mi\u001b[0m\u001b[1;33m*\u001b[0m\u001b[0mi\u001b[0m\u001b[1;33m\u001b[0m\u001b[1;33m\u001b[0m\u001b[0m\n\u001b[0m\u001b[0;32m      6\u001b[0m         \u001b[0mlst\u001b[0m\u001b[1;33m.\u001b[0m\u001b[0mappend\u001b[0m\u001b[1;33m(\u001b[0m\u001b[0ma\u001b[0m\u001b[1;33m)\u001b[0m\u001b[1;33m\u001b[0m\u001b[1;33m\u001b[0m\u001b[0m\n\u001b[0;32m      7\u001b[0m         \u001b[0mi\u001b[0m\u001b[1;33m+=\u001b[0m\u001b[1;36m1\u001b[0m\u001b[1;33m\u001b[0m\u001b[1;33m\u001b[0m\u001b[0m\n",
      "\u001b[1;31mKeyboardInterrupt\u001b[0m: "
     ]
    }
   ],
   "source": [
    "def nextvalue():\n",
    "    i=1\n",
    "    lst=[]\n",
    "    while True:\n",
    "        a= i*i\n",
    "        lst.append(a)\n",
    "        i+=1\n",
    "for num in nextvalue():\n",
    "    if num>100:\n",
    "        break\n",
    "    print(num)"
   ]
  },
  {
   "cell_type": "code",
   "execution_count": null,
   "id": "52f40949",
   "metadata": {},
   "outputs": [],
   "source": []
  },
  {
   "cell_type": "code",
   "execution_count": null,
   "id": "c610ed8e",
   "metadata": {},
   "outputs": [],
   "source": []
  },
  {
   "cell_type": "code",
   "execution_count": 3,
   "id": "8f65c593",
   "metadata": {},
   "outputs": [
    {
     "name": "stdout",
     "output_type": "stream",
     "text": [
      "['p', 'o', 'c']\n"
     ]
    }
   ],
   "source": [
    "def function(string,list1):\n",
    "    num=0\n",
    "    while(num!=len(string)):\n",
    "        if len(string)%2==0 or (string[num] in ('a','e','i','o','u')): \n",
    "            list1.append(string[num])\n",
    "        num+=1\n",
    "        function(string[num:],list1)\n",
    "        break \n",
    "    return list1 \n",
    "print(function(\"Epoch\",[]))  "
   ]
  },
  {
   "cell_type": "code",
   "execution_count": 53,
   "id": "34bb7bff",
   "metadata": {},
   "outputs": [
    {
     "name": "stdout",
     "output_type": "stream",
     "text": [
      "['H', 'L', 'W', 'd', 'e', 'l', 'l', 'l', 'l', 'o', 'o', 'o', 'o', 'r']\n"
     ]
    }
   ],
   "source": []
  },
  {
   "cell_type": "code",
   "execution_count": 70,
   "id": "3246ad0f",
   "metadata": {},
   "outputs": [
    {
     "name": "stdout",
     "output_type": "stream",
     "text": [
      "['d', 'e', 'H', 'lLl', 'oO', 'r', 'W']\n",
      "dWerHoOlLl\n"
     ]
    }
   ],
   "source": [
    "\n",
    "s='HelLoWOrld'\n",
    "l=sorted(set(string.upper()))\n",
    "res=[]\n",
    "for i in range(0,len(l)):\n",
    "    newstr=\"\"\n",
    "    for j in s:\n",
    "        if l[i]==j.upper():\n",
    "            newstr+=j\n",
    "    res.append(newstr)\n",
    "print(res)\n",
    "\n",
    "\n",
    "i=0\n",
    "j=len(l)-1\n",
    "newstr=\"\"\n",
    "while i<j:\n",
    "    newstr+=res[i]+res[j]\n",
    "    i+=1\n",
    "    j-=1\n",
    "else:\n",
    "    newstr+=res[i]\n",
    "print(newstr)\n",
    "\n",
    "dWerHoOlLl"
   ]
  },
  {
   "cell_type": "code",
   "execution_count": 73,
   "id": "57f8d172",
   "metadata": {},
   "outputs": [],
   "source": [
    "class A:\n",
    "    def __init__(self):\n",
    "        self.__x=1\n",
    "class B(A):\n",
    "    def get_x(self):\n",
    "        print(self.__x)"
   ]
  },
  {
   "cell_type": "code",
   "execution_count": 74,
   "id": "e11317fc",
   "metadata": {},
   "outputs": [
    {
     "ename": "AttributeError",
     "evalue": "'B' object has no attribute '_B__x'",
     "output_type": "error",
     "traceback": [
      "\u001b[1;31m---------------------------------------------------------------------------\u001b[0m",
      "\u001b[1;31mAttributeError\u001b[0m                            Traceback (most recent call last)",
      "\u001b[1;32m~\\AppData\\Local\\Temp/ipykernel_17344/737613834.py\u001b[0m in \u001b[0;36m<module>\u001b[1;34m\u001b[0m\n\u001b[0;32m      1\u001b[0m \u001b[0ma\u001b[0m\u001b[1;33m=\u001b[0m\u001b[0mB\u001b[0m\u001b[1;33m(\u001b[0m\u001b[1;33m)\u001b[0m\u001b[1;33m\u001b[0m\u001b[1;33m\u001b[0m\u001b[0m\n\u001b[1;32m----> 2\u001b[1;33m \u001b[0ma\u001b[0m\u001b[1;33m.\u001b[0m\u001b[0mget_x\u001b[0m\u001b[1;33m(\u001b[0m\u001b[1;33m)\u001b[0m\u001b[1;33m\u001b[0m\u001b[1;33m\u001b[0m\u001b[0m\n\u001b[0m",
      "\u001b[1;32m~\\AppData\\Local\\Temp/ipykernel_17344/1405426566.py\u001b[0m in \u001b[0;36mget_x\u001b[1;34m(self)\u001b[0m\n\u001b[0;32m      4\u001b[0m \u001b[1;32mclass\u001b[0m \u001b[0mB\u001b[0m\u001b[1;33m(\u001b[0m\u001b[0mA\u001b[0m\u001b[1;33m)\u001b[0m\u001b[1;33m:\u001b[0m\u001b[1;33m\u001b[0m\u001b[1;33m\u001b[0m\u001b[0m\n\u001b[0;32m      5\u001b[0m     \u001b[1;32mdef\u001b[0m \u001b[0mget_x\u001b[0m\u001b[1;33m(\u001b[0m\u001b[0mself\u001b[0m\u001b[1;33m)\u001b[0m\u001b[1;33m:\u001b[0m\u001b[1;33m\u001b[0m\u001b[1;33m\u001b[0m\u001b[0m\n\u001b[1;32m----> 6\u001b[1;33m         \u001b[0mprint\u001b[0m\u001b[1;33m(\u001b[0m\u001b[0mself\u001b[0m\u001b[1;33m.\u001b[0m\u001b[0m__x\u001b[0m\u001b[1;33m)\u001b[0m\u001b[1;33m\u001b[0m\u001b[1;33m\u001b[0m\u001b[0m\n\u001b[0m",
      "\u001b[1;31mAttributeError\u001b[0m: 'B' object has no attribute '_B__x'"
     ]
    }
   ],
   "source": [
    "a=B()\n",
    "a.get_x()"
   ]
  }
 ],
 "metadata": {
  "kernelspec": {
   "display_name": "Python 3 (ipykernel)",
   "language": "python",
   "name": "python3"
  },
  "language_info": {
   "codemirror_mode": {
    "name": "ipython",
    "version": 3
   },
   "file_extension": ".py",
   "mimetype": "text/x-python",
   "name": "python",
   "nbconvert_exporter": "python",
   "pygments_lexer": "ipython3",
   "version": "3.9.7"
  }
 },
 "nbformat": 4,
 "nbformat_minor": 5
}
